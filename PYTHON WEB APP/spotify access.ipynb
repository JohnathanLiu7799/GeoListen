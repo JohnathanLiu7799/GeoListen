{
 "cells": [
  {
   "cell_type": "code",
   "execution_count": 1,
   "id": "7bec8050-9c6d-429f-85bf-5dda88ae72cd",
   "metadata": {},
   "outputs": [],
   "source": [
    "import spotipy"
   ]
  },
  {
   "cell_type": "code",
   "execution_count": 2,
   "id": "7efa247b-7e0a-4407-babb-7f62fe6a045d",
   "metadata": {},
   "outputs": [],
   "source": [
    "from spotipy.oauth2 import SpotifyOAuth"
   ]
  },
  {
   "cell_type": "code",
   "execution_count": 3,
   "id": "e0d92646-3400-4bda-a09e-bb00f3e2ef9c",
   "metadata": {},
   "outputs": [],
   "source": [
    "scope = 'user-read-currently-playing,user-library-read'"
   ]
  },
  {
   "cell_type": "code",
   "execution_count": 4,
   "id": "2f27e6c9-a77f-4571-8b40-def49f6a983f",
   "metadata": {},
   "outputs": [],
   "source": [
    "sp = spotipy.Spotify(auth_manager=SpotifyOAuth(scope=scope, redirect_uri='http://example.com/callback'))"
   ]
  },
  {
   "cell_type": "code",
   "execution_count": 5,
   "id": "98cc13c8-ca1e-4c69-aa50-49bc43f0cb56",
   "metadata": {},
   "outputs": [
    {
     "name": "stdin",
     "output_type": "stream",
     "text": [
      "Enter the URL you were redirected to:  http://example.com/callback?code=AQCU02ZC59M0QYgY9gkteUQgpG15I9DemVdbiHD3eKVZfQFwyAvKltq7RJXDvSys-ZznGa8vWqBwr97Mj_V3uP7EG81_RmmK387BvKwujqdaC8sF8HKsdswZoGom_bVJtIlUsNZNMz-U3_wdJBGzF9DNUaK12LL_yAZ49VFeUT5he4LXFHzOx33tCxsZC4Iwnn2XrEABHfsf260HsmFOLLn6PNpFLfLoHPMFyPfuLQ\n"
     ]
    }
   ],
   "source": [
    "results = sp.current_user_saved_tracks()"
   ]
  },
  {
   "cell_type": "code",
   "execution_count": 6,
   "id": "16770dc0-2a57-4c8e-a47f-fb1b0b9e08ef",
   "metadata": {},
   "outputs": [
    {
     "name": "stdout",
     "output_type": "stream",
     "text": [
      "0 Hank Trill  -  Propane Money\n",
      "1 BETWEEN FRIENDS  -  affection\n",
      "2 Arctic Monkeys  -  505\n",
      "3 SEGA SOUND TEAM  -  War Maker\n",
      "4 白鲨JAWS  -  Dive Back In Time - Live\n",
      "5 Raayo  -  Dive Back in Time (From \"LINK CLICK\")\n",
      "6 Daisuke Ishiwatari  -  Smell of the Game\n",
      "7 your best friend jippy  -  [05] PRETTY BANGLES\n",
      "8 your best friend jippy  -  LIED TO ME\n",
      "9 VALORANT  -  Ignition\n",
      "10 ilkekw  -  Mne Malo Malo Malo Tebya\n",
      "11 meganeko  -  The Cyber Grind\n",
      "12 WILLOW  -  Wait a Minute!\n",
      "13 iwamizu  -  Edo\n",
      "14 C418  -  Aria Math\n",
      "15 S3RL  -  Mtc\n",
      "16 Never Get Used To People  -  Life Letters\n",
      "17 Unlike Pluto  -  Everything Black\n",
      "18 ROZEN  -  Moon's Tears (Astral Observatory)\n",
      "19 Kevin Penkin  -  Made in Abyss\n"
     ]
    }
   ],
   "source": [
    "for idx, item in enumerate(results['items']):\n",
    "    track = item['track']\n",
    "    print(idx, track['artists'][0]['name'], \" - \", track['name'])"
   ]
  },
  {
   "cell_type": "code",
   "execution_count": 8,
   "id": "c62a8fbb-d791-40c1-b864-26b9a85ac649",
   "metadata": {},
   "outputs": [],
   "source": [
    "results = sp.currently_playing()"
   ]
  },
  {
   "cell_type": "code",
   "execution_count": 12,
   "id": "9bb4839e-800a-4cce-a6a1-72545e67a258",
   "metadata": {},
   "outputs": [
    {
     "data": {
      "text/plain": [
       "'Dive Back in Time (From \"LINK CLICK\")'"
      ]
     },
     "execution_count": 12,
     "metadata": {},
     "output_type": "execute_result"
    }
   ],
   "source": [
    "results['item']['name']"
   ]
  },
  {
   "cell_type": "code",
   "execution_count": null,
   "id": "1b8dc10e-64d0-434f-91b2-8995241fc7f7",
   "metadata": {},
   "outputs": [],
   "source": []
  }
 ],
 "metadata": {
  "kernelspec": {
   "display_name": "Python 3",
   "language": "python",
   "name": "python3"
  },
  "language_info": {
   "codemirror_mode": {
    "name": "ipython",
    "version": 3
   },
   "file_extension": ".py",
   "mimetype": "text/x-python",
   "name": "python",
   "nbconvert_exporter": "python",
   "pygments_lexer": "ipython3",
   "version": "3.8.8"
  }
 },
 "nbformat": 4,
 "nbformat_minor": 5
}
